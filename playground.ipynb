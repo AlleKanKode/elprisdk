{
 "cells": [
  {
   "cell_type": "code",
   "execution_count": 1,
   "metadata": {},
   "outputs": [],
   "source": [
    "import requests\n",
    "import matplotlib.pyplot as plt\n",
    "from datetime import datetime, timedelta\n",
    "import pytz\n",
    "import pandas as pd\n",
    "import matplotlib.dates as mdates\n",
    "import argparse"
   ]
  },
  {
   "cell_type": "code",
   "execution_count": null,
   "metadata": {},
   "outputs": [
    {
     "data": {
      "text/plain": [
       "<Response [200]>"
      ]
     },
     "execution_count": 2,
     "metadata": {},
     "output_type": "execute_result"
    }
   ],
   "source": [
    "price_area = 'dk1'.upper()\n",
    "\n",
    "url = \"https://api.energidataservice.dk/dataset/Elspotprices\"\n",
    "params = {\n",
    "            'start': datetime.now(pytz.timezone('Europe/Copenhagen')).strftime('%Y-%m-%d'),\n",
    "            'end': (datetime.now(pytz.timezone('Europe/Copenhagen')) + timedelta(days=1)).strftime('%Y-%m-%d'),\n",
    "            'filter': f'{{\"PriceArea\":\"{price_area}\"}}',\n",
    "            'sort': 'HourDK'\n",
    "        }\n",
    "\n",
    "response = requests.get(url, params=params)\n",
    "response"
   ]
  },
  {
   "cell_type": "code",
   "execution_count": 7,
   "metadata": {},
   "outputs": [
    {
     "name": "stdout",
     "output_type": "stream",
     "text": [
      "{\"total\":24,\"filters\":\"{\\\"PriceArea\\\":\\\"DK1\\\"}\",\"sort\":\"HourDK\",\"dataset\":\"Elspotprices\",\"records\":[{\"HourUTC\":\"2025-03-03T23:00:00\",\"HourDK\":\"2025-03-04T00:00:00\",\"PriceArea\":\"DK1\",\"SpotPriceDKK\":485.250000,\"SpotPriceEUR\":65.059998},{\"HourUTC\":\"2025-03-04T00:00:00\",\"HourDK\":\"2025-03-04T01:00:00\",\"PriceArea\":\"DK1\",\"SpotPriceDKK\":487.709991,\"SpotPriceEUR\":65.389999},{\"HourUTC\":\"2025-03-04T01:00:00\",\"HourDK\":\"2025-03-04T02:00:00\",\"PriceArea\":\"DK1\",\"SpotPriceDKK\":491.890015,\"SpotPriceEUR\":65.949997},{\"HourUTC\":\"2025-03-04T02:00:00\",\"HourDK\":\"2025-03-04T03:00:00\",\"PriceArea\":\"DK1\",\"SpotPriceDKK\":454.589996,\"SpotPriceEUR\":60.950001},{\"HourUTC\":\"2025-03-04T03:00:00\",\"HourDK\":\"2025-03-04T04:00:00\",\"PriceArea\":\"DK1\",\"SpotPriceDKK\":387.920013,\"SpotPriceEUR\":52.009998},{\"HourUTC\":\"2025-03-04T04:00:00\",\"HourDK\":\"2025-03-04T05:00:00\",\"PriceArea\":\"DK1\",\"SpotPriceDKK\":378.820007,\"SpotPriceEUR\":50.790001},{\"HourUTC\":\"2025-03-04T05:00:00\",\"HourDK\":\"2025-03-04T06:00:00\",\"PriceArea\":\"DK1\",\"SpotPriceDKK\":383.290009,\"SpotPriceEUR\":51.389999},{\"HourUTC\":\"2025-03-04T06:00:00\",\"HourDK\":\"2025-03-04T07:00:00\",\"PriceArea\":\"DK1\",\"SpotPriceDKK\":491.510010,\"SpotPriceEUR\":65.900002},{\"HourUTC\":\"2025-03-04T07:00:00\",\"HourDK\":\"2025-03-04T08:00:00\",\"PriceArea\":\"DK1\",\"SpotPriceDKK\":468.769989,\"SpotPriceEUR\":62.849998},{\"HourUTC\":\"2025-03-04T08:00:00\",\"HourDK\":\"2025-03-04T09:00:00\",\"PriceArea\":\"DK1\",\"SpotPriceDKK\":456.679993,\"SpotPriceEUR\":61.230000},{\"HourUTC\":\"2025-03-04T09:00:00\",\"HourDK\":\"2025-03-04T10:00:00\",\"PriceArea\":\"DK1\",\"SpotPriceDKK\":188.699997,\"SpotPriceEUR\":25.299999},{\"HourUTC\":\"2025-03-04T10:00:00\",\"HourDK\":\"2025-03-04T11:00:00\",\"PriceArea\":\"DK1\",\"SpotPriceDKK\":98.900002,\"SpotPriceEUR\":13.260000},{\"HourUTC\":\"2025-03-04T11:00:00\",\"HourDK\":\"2025-03-04T12:00:00\",\"PriceArea\":\"DK1\",\"SpotPriceDKK\":29.830000,\"SpotPriceEUR\":4.000000},{\"HourUTC\":\"2025-03-04T12:00:00\",\"HourDK\":\"2025-03-04T13:00:00\",\"PriceArea\":\"DK1\",\"SpotPriceDKK\":30.129999,\"SpotPriceEUR\":4.040000},{\"HourUTC\":\"2025-03-04T13:00:00\",\"HourDK\":\"2025-03-04T14:00:00\",\"PriceArea\":\"DK1\",\"SpotPriceDKK\":75.410004,\"SpotPriceEUR\":10.110000},{\"HourUTC\":\"2025-03-04T14:00:00\",\"HourDK\":\"2025-03-04T15:00:00\",\"PriceArea\":\"DK1\",\"SpotPriceDKK\":224.279999,\"SpotPriceEUR\":30.070000},{\"HourUTC\":\"2025-03-04T15:00:00\",\"HourDK\":\"2025-03-04T16:00:00\",\"PriceArea\":\"DK1\",\"SpotPriceDKK\":372.920013,\"SpotPriceEUR\":50.000000},{\"HourUTC\":\"2025-03-04T16:00:00\",\"HourDK\":\"2025-03-04T17:00:00\",\"PriceArea\":\"DK1\",\"SpotPriceDKK\":558.719971,\"SpotPriceEUR\":74.910004},{\"HourUTC\":\"2025-03-04T17:00:00\",\"HourDK\":\"2025-03-04T18:00:00\",\"PriceArea\":\"DK1\",\"SpotPriceDKK\":481.369995,\"SpotPriceEUR\":64.540001},{\"HourUTC\":\"2025-03-04T18:00:00\",\"HourDK\":\"2025-03-04T19:00:00\",\"PriceArea\":\"DK1\",\"SpotPriceDKK\":315.570007,\"SpotPriceEUR\":42.310001},{\"HourUTC\":\"2025-03-04T19:00:00\",\"HourDK\":\"2025-03-04T20:00:00\",\"PriceArea\":\"DK1\",\"SpotPriceDKK\":222.639999,\"SpotPriceEUR\":29.850000},{\"HourUTC\":\"2025-03-04T20:00:00\",\"HourDK\":\"2025-03-04T21:00:00\",\"PriceArea\":\"DK1\",\"SpotPriceDKK\":188.919998,\"SpotPriceEUR\":25.330000},{\"HourUTC\":\"2025-03-04T21:00:00\",\"HourDK\":\"2025-03-04T22:00:00\",\"PriceArea\":\"DK1\",\"SpotPriceDKK\":190.339996,\"SpotPriceEUR\":25.520000},{\"HourUTC\":\"2025-03-04T22:00:00\",\"HourDK\":\"2025-03-04T23:00:00\",\"PriceArea\":\"DK1\",\"SpotPriceDKK\":154.320007,\"SpotPriceEUR\":20.690001}]}\n"
     ]
    }
   ],
   "source": [
    "print(response.text)"
   ]
  },
  {
   "cell_type": "markdown",
   "metadata": {},
   "source": [
    "## Og så tester vi koden"
   ]
  },
  {
   "cell_type": "code",
   "execution_count": 8,
   "metadata": {},
   "outputs": [
    {
     "data": {
      "text/plain": [
       "[{'HourUTC': '2025-03-03T23:00:00',\n",
       "  'HourDK': '2025-03-04T00:00:00',\n",
       "  'PriceArea': 'DK1',\n",
       "  'SpotPriceDKK': 485.25,\n",
       "  'SpotPriceEUR': 65.059998},\n",
       " {'HourUTC': '2025-03-04T00:00:00',\n",
       "  'HourDK': '2025-03-04T01:00:00',\n",
       "  'PriceArea': 'DK1',\n",
       "  'SpotPriceDKK': 487.709991,\n",
       "  'SpotPriceEUR': 65.389999},\n",
       " {'HourUTC': '2025-03-04T01:00:00',\n",
       "  'HourDK': '2025-03-04T02:00:00',\n",
       "  'PriceArea': 'DK1',\n",
       "  'SpotPriceDKK': 491.890015,\n",
       "  'SpotPriceEUR': 65.949997},\n",
       " {'HourUTC': '2025-03-04T02:00:00',\n",
       "  'HourDK': '2025-03-04T03:00:00',\n",
       "  'PriceArea': 'DK1',\n",
       "  'SpotPriceDKK': 454.589996,\n",
       "  'SpotPriceEUR': 60.950001},\n",
       " {'HourUTC': '2025-03-04T03:00:00',\n",
       "  'HourDK': '2025-03-04T04:00:00',\n",
       "  'PriceArea': 'DK1',\n",
       "  'SpotPriceDKK': 387.920013,\n",
       "  'SpotPriceEUR': 52.009998},\n",
       " {'HourUTC': '2025-03-04T04:00:00',\n",
       "  'HourDK': '2025-03-04T05:00:00',\n",
       "  'PriceArea': 'DK1',\n",
       "  'SpotPriceDKK': 378.820007,\n",
       "  'SpotPriceEUR': 50.790001},\n",
       " {'HourUTC': '2025-03-04T05:00:00',\n",
       "  'HourDK': '2025-03-04T06:00:00',\n",
       "  'PriceArea': 'DK1',\n",
       "  'SpotPriceDKK': 383.290009,\n",
       "  'SpotPriceEUR': 51.389999},\n",
       " {'HourUTC': '2025-03-04T06:00:00',\n",
       "  'HourDK': '2025-03-04T07:00:00',\n",
       "  'PriceArea': 'DK1',\n",
       "  'SpotPriceDKK': 491.51001,\n",
       "  'SpotPriceEUR': 65.900002},\n",
       " {'HourUTC': '2025-03-04T07:00:00',\n",
       "  'HourDK': '2025-03-04T08:00:00',\n",
       "  'PriceArea': 'DK1',\n",
       "  'SpotPriceDKK': 468.769989,\n",
       "  'SpotPriceEUR': 62.849998},\n",
       " {'HourUTC': '2025-03-04T08:00:00',\n",
       "  'HourDK': '2025-03-04T09:00:00',\n",
       "  'PriceArea': 'DK1',\n",
       "  'SpotPriceDKK': 456.679993,\n",
       "  'SpotPriceEUR': 61.23},\n",
       " {'HourUTC': '2025-03-04T09:00:00',\n",
       "  'HourDK': '2025-03-04T10:00:00',\n",
       "  'PriceArea': 'DK1',\n",
       "  'SpotPriceDKK': 188.699997,\n",
       "  'SpotPriceEUR': 25.299999},\n",
       " {'HourUTC': '2025-03-04T10:00:00',\n",
       "  'HourDK': '2025-03-04T11:00:00',\n",
       "  'PriceArea': 'DK1',\n",
       "  'SpotPriceDKK': 98.900002,\n",
       "  'SpotPriceEUR': 13.26},\n",
       " {'HourUTC': '2025-03-04T11:00:00',\n",
       "  'HourDK': '2025-03-04T12:00:00',\n",
       "  'PriceArea': 'DK1',\n",
       "  'SpotPriceDKK': 29.83,\n",
       "  'SpotPriceEUR': 4.0},\n",
       " {'HourUTC': '2025-03-04T12:00:00',\n",
       "  'HourDK': '2025-03-04T13:00:00',\n",
       "  'PriceArea': 'DK1',\n",
       "  'SpotPriceDKK': 30.129999,\n",
       "  'SpotPriceEUR': 4.04},\n",
       " {'HourUTC': '2025-03-04T13:00:00',\n",
       "  'HourDK': '2025-03-04T14:00:00',\n",
       "  'PriceArea': 'DK1',\n",
       "  'SpotPriceDKK': 75.410004,\n",
       "  'SpotPriceEUR': 10.11},\n",
       " {'HourUTC': '2025-03-04T14:00:00',\n",
       "  'HourDK': '2025-03-04T15:00:00',\n",
       "  'PriceArea': 'DK1',\n",
       "  'SpotPriceDKK': 224.279999,\n",
       "  'SpotPriceEUR': 30.07},\n",
       " {'HourUTC': '2025-03-04T15:00:00',\n",
       "  'HourDK': '2025-03-04T16:00:00',\n",
       "  'PriceArea': 'DK1',\n",
       "  'SpotPriceDKK': 372.920013,\n",
       "  'SpotPriceEUR': 50.0},\n",
       " {'HourUTC': '2025-03-04T16:00:00',\n",
       "  'HourDK': '2025-03-04T17:00:00',\n",
       "  'PriceArea': 'DK1',\n",
       "  'SpotPriceDKK': 558.719971,\n",
       "  'SpotPriceEUR': 74.910004},\n",
       " {'HourUTC': '2025-03-04T17:00:00',\n",
       "  'HourDK': '2025-03-04T18:00:00',\n",
       "  'PriceArea': 'DK1',\n",
       "  'SpotPriceDKK': 481.369995,\n",
       "  'SpotPriceEUR': 64.540001},\n",
       " {'HourUTC': '2025-03-04T18:00:00',\n",
       "  'HourDK': '2025-03-04T19:00:00',\n",
       "  'PriceArea': 'DK1',\n",
       "  'SpotPriceDKK': 315.570007,\n",
       "  'SpotPriceEUR': 42.310001},\n",
       " {'HourUTC': '2025-03-04T19:00:00',\n",
       "  'HourDK': '2025-03-04T20:00:00',\n",
       "  'PriceArea': 'DK1',\n",
       "  'SpotPriceDKK': 222.639999,\n",
       "  'SpotPriceEUR': 29.85},\n",
       " {'HourUTC': '2025-03-04T20:00:00',\n",
       "  'HourDK': '2025-03-04T21:00:00',\n",
       "  'PriceArea': 'DK1',\n",
       "  'SpotPriceDKK': 188.919998,\n",
       "  'SpotPriceEUR': 25.33},\n",
       " {'HourUTC': '2025-03-04T21:00:00',\n",
       "  'HourDK': '2025-03-04T22:00:00',\n",
       "  'PriceArea': 'DK1',\n",
       "  'SpotPriceDKK': 190.339996,\n",
       "  'SpotPriceEUR': 25.52},\n",
       " {'HourUTC': '2025-03-04T22:00:00',\n",
       "  'HourDK': '2025-03-04T23:00:00',\n",
       "  'PriceArea': 'DK1',\n",
       "  'SpotPriceDKK': 154.320007,\n",
       "  'SpotPriceEUR': 20.690001}]"
      ]
     },
     "execution_count": 8,
     "metadata": {},
     "output_type": "execute_result"
    }
   ],
   "source": [
    "data = response.json().get('records', [])\n",
    "data"
   ]
  },
  {
   "cell_type": "code",
   "execution_count": null,
   "metadata": {},
   "outputs": [
    {
     "data": {
      "application/vnd.microsoft.datawrangler.viewer.v0+json": {
       "columns": [
        {
         "name": "index",
         "rawType": "int64",
         "type": "integer"
        },
        {
         "name": "HourUTC",
         "rawType": "object",
         "type": "string"
        },
        {
         "name": "HourDK",
         "rawType": "object",
         "type": "string"
        },
        {
         "name": "PriceArea",
         "rawType": "object",
         "type": "string"
        },
        {
         "name": "SpotPriceDKK",
         "rawType": "float64",
         "type": "float"
        },
        {
         "name": "SpotPriceEUR",
         "rawType": "float64",
         "type": "float"
        }
       ],
       "conversionMethod": "pd.DataFrame",
       "ref": "a737f6a6-12ad-4eab-97f8-5125cd5caab2",
       "rows": [
        [
         "0",
         "2025-03-03T23:00:00",
         "2025-03-04T00:00:00",
         "DK1",
         "485.25",
         "65.059998"
        ],
        [
         "1",
         "2025-03-04T00:00:00",
         "2025-03-04T01:00:00",
         "DK1",
         "487.709991",
         "65.389999"
        ],
        [
         "2",
         "2025-03-04T01:00:00",
         "2025-03-04T02:00:00",
         "DK1",
         "491.890015",
         "65.949997"
        ],
        [
         "3",
         "2025-03-04T02:00:00",
         "2025-03-04T03:00:00",
         "DK1",
         "454.589996",
         "60.950001"
        ],
        [
         "4",
         "2025-03-04T03:00:00",
         "2025-03-04T04:00:00",
         "DK1",
         "387.920013",
         "52.009998"
        ],
        [
         "5",
         "2025-03-04T04:00:00",
         "2025-03-04T05:00:00",
         "DK1",
         "378.820007",
         "50.790001"
        ],
        [
         "6",
         "2025-03-04T05:00:00",
         "2025-03-04T06:00:00",
         "DK1",
         "383.290009",
         "51.389999"
        ],
        [
         "7",
         "2025-03-04T06:00:00",
         "2025-03-04T07:00:00",
         "DK1",
         "491.51001",
         "65.900002"
        ],
        [
         "8",
         "2025-03-04T07:00:00",
         "2025-03-04T08:00:00",
         "DK1",
         "468.769989",
         "62.849998"
        ],
        [
         "9",
         "2025-03-04T08:00:00",
         "2025-03-04T09:00:00",
         "DK1",
         "456.679993",
         "61.23"
        ],
        [
         "10",
         "2025-03-04T09:00:00",
         "2025-03-04T10:00:00",
         "DK1",
         "188.699997",
         "25.299999"
        ],
        [
         "11",
         "2025-03-04T10:00:00",
         "2025-03-04T11:00:00",
         "DK1",
         "98.900002",
         "13.26"
        ],
        [
         "12",
         "2025-03-04T11:00:00",
         "2025-03-04T12:00:00",
         "DK1",
         "29.83",
         "4.0"
        ],
        [
         "13",
         "2025-03-04T12:00:00",
         "2025-03-04T13:00:00",
         "DK1",
         "30.129999",
         "4.04"
        ],
        [
         "14",
         "2025-03-04T13:00:00",
         "2025-03-04T14:00:00",
         "DK1",
         "75.410004",
         "10.11"
        ],
        [
         "15",
         "2025-03-04T14:00:00",
         "2025-03-04T15:00:00",
         "DK1",
         "224.279999",
         "30.07"
        ],
        [
         "16",
         "2025-03-04T15:00:00",
         "2025-03-04T16:00:00",
         "DK1",
         "372.920013",
         "50.0"
        ],
        [
         "17",
         "2025-03-04T16:00:00",
         "2025-03-04T17:00:00",
         "DK1",
         "558.719971",
         "74.910004"
        ],
        [
         "18",
         "2025-03-04T17:00:00",
         "2025-03-04T18:00:00",
         "DK1",
         "481.369995",
         "64.540001"
        ],
        [
         "19",
         "2025-03-04T18:00:00",
         "2025-03-04T19:00:00",
         "DK1",
         "315.570007",
         "42.310001"
        ],
        [
         "20",
         "2025-03-04T19:00:00",
         "2025-03-04T20:00:00",
         "DK1",
         "222.639999",
         "29.85"
        ],
        [
         "21",
         "2025-03-04T20:00:00",
         "2025-03-04T21:00:00",
         "DK1",
         "188.919998",
         "25.33"
        ],
        [
         "22",
         "2025-03-04T21:00:00",
         "2025-03-04T22:00:00",
         "DK1",
         "190.339996",
         "25.52"
        ],
        [
         "23",
         "2025-03-04T22:00:00",
         "2025-03-04T23:00:00",
         "DK1",
         "154.320007",
         "20.690001"
        ]
       ],
       "shape": {
        "columns": 5,
        "rows": 24
       }
      },
      "text/html": [
       "<div>\n",
       "<style scoped>\n",
       "    .dataframe tbody tr th:only-of-type {\n",
       "        vertical-align: middle;\n",
       "    }\n",
       "\n",
       "    .dataframe tbody tr th {\n",
       "        vertical-align: top;\n",
       "    }\n",
       "\n",
       "    .dataframe thead th {\n",
       "        text-align: right;\n",
       "    }\n",
       "</style>\n",
       "<table border=\"1\" class=\"dataframe\">\n",
       "  <thead>\n",
       "    <tr style=\"text-align: right;\">\n",
       "      <th></th>\n",
       "      <th>HourUTC</th>\n",
       "      <th>HourDK</th>\n",
       "      <th>PriceArea</th>\n",
       "      <th>SpotPriceDKK</th>\n",
       "      <th>SpotPriceEUR</th>\n",
       "    </tr>\n",
       "  </thead>\n",
       "  <tbody>\n",
       "    <tr>\n",
       "      <th>0</th>\n",
       "      <td>2025-03-03T23:00:00</td>\n",
       "      <td>2025-03-04T00:00:00</td>\n",
       "      <td>DK1</td>\n",
       "      <td>485.250000</td>\n",
       "      <td>65.059998</td>\n",
       "    </tr>\n",
       "    <tr>\n",
       "      <th>1</th>\n",
       "      <td>2025-03-04T00:00:00</td>\n",
       "      <td>2025-03-04T01:00:00</td>\n",
       "      <td>DK1</td>\n",
       "      <td>487.709991</td>\n",
       "      <td>65.389999</td>\n",
       "    </tr>\n",
       "    <tr>\n",
       "      <th>2</th>\n",
       "      <td>2025-03-04T01:00:00</td>\n",
       "      <td>2025-03-04T02:00:00</td>\n",
       "      <td>DK1</td>\n",
       "      <td>491.890015</td>\n",
       "      <td>65.949997</td>\n",
       "    </tr>\n",
       "    <tr>\n",
       "      <th>3</th>\n",
       "      <td>2025-03-04T02:00:00</td>\n",
       "      <td>2025-03-04T03:00:00</td>\n",
       "      <td>DK1</td>\n",
       "      <td>454.589996</td>\n",
       "      <td>60.950001</td>\n",
       "    </tr>\n",
       "    <tr>\n",
       "      <th>4</th>\n",
       "      <td>2025-03-04T03:00:00</td>\n",
       "      <td>2025-03-04T04:00:00</td>\n",
       "      <td>DK1</td>\n",
       "      <td>387.920013</td>\n",
       "      <td>52.009998</td>\n",
       "    </tr>\n",
       "    <tr>\n",
       "      <th>5</th>\n",
       "      <td>2025-03-04T04:00:00</td>\n",
       "      <td>2025-03-04T05:00:00</td>\n",
       "      <td>DK1</td>\n",
       "      <td>378.820007</td>\n",
       "      <td>50.790001</td>\n",
       "    </tr>\n",
       "    <tr>\n",
       "      <th>6</th>\n",
       "      <td>2025-03-04T05:00:00</td>\n",
       "      <td>2025-03-04T06:00:00</td>\n",
       "      <td>DK1</td>\n",
       "      <td>383.290009</td>\n",
       "      <td>51.389999</td>\n",
       "    </tr>\n",
       "    <tr>\n",
       "      <th>7</th>\n",
       "      <td>2025-03-04T06:00:00</td>\n",
       "      <td>2025-03-04T07:00:00</td>\n",
       "      <td>DK1</td>\n",
       "      <td>491.510010</td>\n",
       "      <td>65.900002</td>\n",
       "    </tr>\n",
       "    <tr>\n",
       "      <th>8</th>\n",
       "      <td>2025-03-04T07:00:00</td>\n",
       "      <td>2025-03-04T08:00:00</td>\n",
       "      <td>DK1</td>\n",
       "      <td>468.769989</td>\n",
       "      <td>62.849998</td>\n",
       "    </tr>\n",
       "    <tr>\n",
       "      <th>9</th>\n",
       "      <td>2025-03-04T08:00:00</td>\n",
       "      <td>2025-03-04T09:00:00</td>\n",
       "      <td>DK1</td>\n",
       "      <td>456.679993</td>\n",
       "      <td>61.230000</td>\n",
       "    </tr>\n",
       "    <tr>\n",
       "      <th>10</th>\n",
       "      <td>2025-03-04T09:00:00</td>\n",
       "      <td>2025-03-04T10:00:00</td>\n",
       "      <td>DK1</td>\n",
       "      <td>188.699997</td>\n",
       "      <td>25.299999</td>\n",
       "    </tr>\n",
       "    <tr>\n",
       "      <th>11</th>\n",
       "      <td>2025-03-04T10:00:00</td>\n",
       "      <td>2025-03-04T11:00:00</td>\n",
       "      <td>DK1</td>\n",
       "      <td>98.900002</td>\n",
       "      <td>13.260000</td>\n",
       "    </tr>\n",
       "    <tr>\n",
       "      <th>12</th>\n",
       "      <td>2025-03-04T11:00:00</td>\n",
       "      <td>2025-03-04T12:00:00</td>\n",
       "      <td>DK1</td>\n",
       "      <td>29.830000</td>\n",
       "      <td>4.000000</td>\n",
       "    </tr>\n",
       "    <tr>\n",
       "      <th>13</th>\n",
       "      <td>2025-03-04T12:00:00</td>\n",
       "      <td>2025-03-04T13:00:00</td>\n",
       "      <td>DK1</td>\n",
       "      <td>30.129999</td>\n",
       "      <td>4.040000</td>\n",
       "    </tr>\n",
       "    <tr>\n",
       "      <th>14</th>\n",
       "      <td>2025-03-04T13:00:00</td>\n",
       "      <td>2025-03-04T14:00:00</td>\n",
       "      <td>DK1</td>\n",
       "      <td>75.410004</td>\n",
       "      <td>10.110000</td>\n",
       "    </tr>\n",
       "    <tr>\n",
       "      <th>15</th>\n",
       "      <td>2025-03-04T14:00:00</td>\n",
       "      <td>2025-03-04T15:00:00</td>\n",
       "      <td>DK1</td>\n",
       "      <td>224.279999</td>\n",
       "      <td>30.070000</td>\n",
       "    </tr>\n",
       "    <tr>\n",
       "      <th>16</th>\n",
       "      <td>2025-03-04T15:00:00</td>\n",
       "      <td>2025-03-04T16:00:00</td>\n",
       "      <td>DK1</td>\n",
       "      <td>372.920013</td>\n",
       "      <td>50.000000</td>\n",
       "    </tr>\n",
       "    <tr>\n",
       "      <th>17</th>\n",
       "      <td>2025-03-04T16:00:00</td>\n",
       "      <td>2025-03-04T17:00:00</td>\n",
       "      <td>DK1</td>\n",
       "      <td>558.719971</td>\n",
       "      <td>74.910004</td>\n",
       "    </tr>\n",
       "    <tr>\n",
       "      <th>18</th>\n",
       "      <td>2025-03-04T17:00:00</td>\n",
       "      <td>2025-03-04T18:00:00</td>\n",
       "      <td>DK1</td>\n",
       "      <td>481.369995</td>\n",
       "      <td>64.540001</td>\n",
       "    </tr>\n",
       "    <tr>\n",
       "      <th>19</th>\n",
       "      <td>2025-03-04T18:00:00</td>\n",
       "      <td>2025-03-04T19:00:00</td>\n",
       "      <td>DK1</td>\n",
       "      <td>315.570007</td>\n",
       "      <td>42.310001</td>\n",
       "    </tr>\n",
       "    <tr>\n",
       "      <th>20</th>\n",
       "      <td>2025-03-04T19:00:00</td>\n",
       "      <td>2025-03-04T20:00:00</td>\n",
       "      <td>DK1</td>\n",
       "      <td>222.639999</td>\n",
       "      <td>29.850000</td>\n",
       "    </tr>\n",
       "    <tr>\n",
       "      <th>21</th>\n",
       "      <td>2025-03-04T20:00:00</td>\n",
       "      <td>2025-03-04T21:00:00</td>\n",
       "      <td>DK1</td>\n",
       "      <td>188.919998</td>\n",
       "      <td>25.330000</td>\n",
       "    </tr>\n",
       "    <tr>\n",
       "      <th>22</th>\n",
       "      <td>2025-03-04T21:00:00</td>\n",
       "      <td>2025-03-04T22:00:00</td>\n",
       "      <td>DK1</td>\n",
       "      <td>190.339996</td>\n",
       "      <td>25.520000</td>\n",
       "    </tr>\n",
       "    <tr>\n",
       "      <th>23</th>\n",
       "      <td>2025-03-04T22:00:00</td>\n",
       "      <td>2025-03-04T23:00:00</td>\n",
       "      <td>DK1</td>\n",
       "      <td>154.320007</td>\n",
       "      <td>20.690001</td>\n",
       "    </tr>\n",
       "  </tbody>\n",
       "</table>\n",
       "</div>"
      ],
      "text/plain": [
       "                HourUTC               HourDK PriceArea  SpotPriceDKK  \\\n",
       "0   2025-03-03T23:00:00  2025-03-04T00:00:00       DK1    485.250000   \n",
       "1   2025-03-04T00:00:00  2025-03-04T01:00:00       DK1    487.709991   \n",
       "2   2025-03-04T01:00:00  2025-03-04T02:00:00       DK1    491.890015   \n",
       "3   2025-03-04T02:00:00  2025-03-04T03:00:00       DK1    454.589996   \n",
       "4   2025-03-04T03:00:00  2025-03-04T04:00:00       DK1    387.920013   \n",
       "5   2025-03-04T04:00:00  2025-03-04T05:00:00       DK1    378.820007   \n",
       "6   2025-03-04T05:00:00  2025-03-04T06:00:00       DK1    383.290009   \n",
       "7   2025-03-04T06:00:00  2025-03-04T07:00:00       DK1    491.510010   \n",
       "8   2025-03-04T07:00:00  2025-03-04T08:00:00       DK1    468.769989   \n",
       "9   2025-03-04T08:00:00  2025-03-04T09:00:00       DK1    456.679993   \n",
       "10  2025-03-04T09:00:00  2025-03-04T10:00:00       DK1    188.699997   \n",
       "11  2025-03-04T10:00:00  2025-03-04T11:00:00       DK1     98.900002   \n",
       "12  2025-03-04T11:00:00  2025-03-04T12:00:00       DK1     29.830000   \n",
       "13  2025-03-04T12:00:00  2025-03-04T13:00:00       DK1     30.129999   \n",
       "14  2025-03-04T13:00:00  2025-03-04T14:00:00       DK1     75.410004   \n",
       "15  2025-03-04T14:00:00  2025-03-04T15:00:00       DK1    224.279999   \n",
       "16  2025-03-04T15:00:00  2025-03-04T16:00:00       DK1    372.920013   \n",
       "17  2025-03-04T16:00:00  2025-03-04T17:00:00       DK1    558.719971   \n",
       "18  2025-03-04T17:00:00  2025-03-04T18:00:00       DK1    481.369995   \n",
       "19  2025-03-04T18:00:00  2025-03-04T19:00:00       DK1    315.570007   \n",
       "20  2025-03-04T19:00:00  2025-03-04T20:00:00       DK1    222.639999   \n",
       "21  2025-03-04T20:00:00  2025-03-04T21:00:00       DK1    188.919998   \n",
       "22  2025-03-04T21:00:00  2025-03-04T22:00:00       DK1    190.339996   \n",
       "23  2025-03-04T22:00:00  2025-03-04T23:00:00       DK1    154.320007   \n",
       "\n",
       "    SpotPriceEUR  \n",
       "0      65.059998  \n",
       "1      65.389999  \n",
       "2      65.949997  \n",
       "3      60.950001  \n",
       "4      52.009998  \n",
       "5      50.790001  \n",
       "6      51.389999  \n",
       "7      65.900002  \n",
       "8      62.849998  \n",
       "9      61.230000  \n",
       "10     25.299999  \n",
       "11     13.260000  \n",
       "12      4.000000  \n",
       "13      4.040000  \n",
       "14     10.110000  \n",
       "15     30.070000  \n",
       "16     50.000000  \n",
       "17     74.910004  \n",
       "18     64.540001  \n",
       "19     42.310001  \n",
       "20     29.850000  \n",
       "21     25.330000  \n",
       "22     25.520000  \n",
       "23     20.690001  "
      ]
     },
     "execution_count": 10,
     "metadata": {},
     "output_type": "execute_result"
    }
   ],
   "source": [
    "#if not data:\n",
    "#    raise ValueError(f\"Ingen prisdata modtaget fra API'et for region {region}\")\n",
    "                \n",
    "\n",
    "df = pd.DataFrame(data)\n",
    "df"
   ]
  },
  {
   "cell_type": "code",
   "execution_count": 13,
   "metadata": {},
   "outputs": [
    {
     "name": "stdout",
     "output_type": "stream",
     "text": [
      "<class 'pandas.core.series.Series'>\n"
     ]
    },
    {
     "data": {
      "text/plain": [
       "0    2025-03-04 00:00:00\n",
       "1    2025-03-04 01:00:00\n",
       "2    2025-03-04 02:00:00\n",
       "3    2025-03-04 03:00:00\n",
       "4    2025-03-04 04:00:00\n",
       "5    2025-03-04 05:00:00\n",
       "6    2025-03-04 06:00:00\n",
       "7    2025-03-04 07:00:00\n",
       "8    2025-03-04 08:00:00\n",
       "9    2025-03-04 09:00:00\n",
       "10   2025-03-04 10:00:00\n",
       "11   2025-03-04 11:00:00\n",
       "12   2025-03-04 12:00:00\n",
       "13   2025-03-04 13:00:00\n",
       "14   2025-03-04 14:00:00\n",
       "15   2025-03-04 15:00:00\n",
       "16   2025-03-04 16:00:00\n",
       "17   2025-03-04 17:00:00\n",
       "18   2025-03-04 18:00:00\n",
       "19   2025-03-04 19:00:00\n",
       "20   2025-03-04 20:00:00\n",
       "21   2025-03-04 21:00:00\n",
       "22   2025-03-04 22:00:00\n",
       "23   2025-03-04 23:00:00\n",
       "Name: HourDK, dtype: datetime64[ns]"
      ]
     },
     "execution_count": 13,
     "metadata": {},
     "output_type": "execute_result"
    }
   ],
   "source": [
    "# Konvertér til pandas DataFrame for nemmere databehandling\n",
    "df['HourDK'] = pd.to_datetime(df['HourDK'])\n",
    "\n",
    "print (type(df['HourDK']))\n",
    "\n",
    "hourdk_series = df['HourDK']\n",
    "\n",
    "hourdk_series\n"
   ]
  },
  {
   "cell_type": "code",
   "execution_count": null,
   "metadata": {},
   "outputs": [],
   "source": [
    "\n",
    "\n",
    "# Konvertér øre/kWh til kr/kWh (SpotPriceDKK er i kr/MWh)\n",
    "df['SpotPriceDKK_kWh'] = df['SpotPriceDKK'] / 1000\n",
    "\n",
    "# Tilføj afgifter (dette er eksempelværdier - brug aktuelle satser)\n",
    "moms_rate = 0.25  # 25% moms\n",
    "elafgift = 0.699  # kr/kWh (eksempelværdi)\n",
    "systemtarif = 0.054  # kr/kWh (eksempelværdi)\n",
    "nettarif = 0.213  # kr/kWh (eksempelværdi)\n",
    "\n",
    "# Beregn total pris inklusive afgifter\n",
    "df['TotalPris'] = df['SpotPriceDKK_kWh'] + elafgift + systemtarif + nettarif\n",
    "df['TotalPrisMedMoms'] = df['TotalPris'] * (1 + moms_rate)"
   ]
  },
  {
   "cell_type": "code",
   "execution_count": null,
   "metadata": {},
   "outputs": [],
   "source": [
    "df"
   ]
  },
  {
   "cell_type": "code",
   "execution_count": 14,
   "metadata": {},
   "outputs": [
    {
     "data": {
      "text/plain": [
       "datetime.datetime(2025, 3, 4, 20, 11, 32, 835035, tzinfo=<DstTzInfo 'Europe/Copenhagen' CET+1:00:00 STD>)"
      ]
     },
     "execution_count": 14,
     "metadata": {},
     "output_type": "execute_result"
    }
   ],
   "source": [
    "# Find nuværende time\n",
    "nu = datetime.now(pytz.timezone('Europe/Copenhagen'))\n",
    "aktuel_time = nu.replace(minute=0, second=0, microsecond=0)\n",
    "\n",
    "nu    "
   ]
  },
  {
   "cell_type": "code",
   "execution_count": 15,
   "metadata": {},
   "outputs": [
    {
     "data": {
      "text/plain": [
       "datetime.datetime(2025, 3, 4, 20, 0, tzinfo=<DstTzInfo 'Europe/Copenhagen' CET+1:00:00 STD>)"
      ]
     },
     "execution_count": 15,
     "metadata": {},
     "output_type": "execute_result"
    }
   ],
   "source": [
    "aktuel_time"
   ]
  },
  {
   "cell_type": "code",
   "execution_count": 17,
   "metadata": {},
   "outputs": [
    {
     "name": "stdout",
     "output_type": "stream",
     "text": [
      "2025-03-04 20:00:00+01:00\n"
     ]
    }
   ],
   "source": [
    "print (aktuel_time)"
   ]
  }
 ],
 "metadata": {
  "kernelspec": {
   "display_name": ".venv",
   "language": "python",
   "name": "python3"
  },
  "language_info": {
   "codemirror_mode": {
    "name": "ipython",
    "version": 3
   },
   "file_extension": ".py",
   "mimetype": "text/x-python",
   "name": "python",
   "nbconvert_exporter": "python",
   "pygments_lexer": "ipython3",
   "version": "3.13.0"
  }
 },
 "nbformat": 4,
 "nbformat_minor": 2
}
